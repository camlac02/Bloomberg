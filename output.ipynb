{
 "cells": [
  {
   "cell_type": "code",
   "execution_count": 1,
   "metadata": {},
   "outputs": [
    {
     "name": "stderr",
     "output_type": "stream",
     "text": [
      "C:\\Users\\nicol\\Anaconda3\\lib\\site-packages\\pandas\\core\\computation\\expressions.py:20: UserWarning: Pandas requires version '2.7.3' or newer of 'numexpr' (version '2.7.1' currently installed).\n",
      "  from pandas.core.computation.check import NUMEXPR_INSTALLED\n",
      "C:\\Users\\nicol\\Videos\\Bloomberg\\Bloomberg\\classes\\backtest_bloom.py:16: UserWarning: Running this module requires the package: polars 0.15.14\n",
      "  warn('Running this module requires the package: polars 0.15.14')\n"
     ]
    }
   ],
   "source": [
    "import matplotlib.pyplot as plt\n",
    "from classes.backtest_bloom import Backtester, Config, Frequency, TypeOptiWeights\n",
    "import blpapi\n",
    "import numpy as np\n",
    "import pandas as pd\n",
    "import datetime as dt\n",
    "from classes.module import BLP\n",
    "from classes.strategies_bloom import Strategies, TypeStrategy"
   ]
  },
  {
   "cell_type": "code",
   "execution_count": null,
   "metadata": {},
   "outputs": [],
   "source": [
    "type_strat = TypeStrategy.momentum.value\n",
    "DATE = blpapi.Name(\"date\")\n",
    "ERROR_INFO = blpapi.Name(\"errorInfo\")\n",
    "EVENT_TIME = blpapi.Name(\"EVENT_TIME\")\n",
    "FIELD_DATA = blpapi.Name(\"fieldData\")\n",
    "FIELD_EXCEPTIONS = blpapi.Name(\"fieldExceptions\")\n",
    "FIELD_ID = blpapi.Name(\"fieldId\")\n",
    "SECURITY = blpapi.Name(\"security\")\n",
    "SECURITY_DATA = blpapi.Name(\"securityData\")\n",
    "\n",
    "blp = BLP(DATE, SECURITY, SECURITY_DATA, FIELD_DATA)\n",
    "strFields = [\"PX_LAST\", \"INDX_MWEIGHT_HIST\"]\n",
    "tickers = [\"CAC Index\"]\n",
    "startDate = dt.datetime(2020, 1, 2)\n",
    "endDate = dt.datetime(2023, 2, 10)"
   ]
  },
  {
   "cell_type": "code",
   "execution_count": null,
   "metadata": {},
   "outputs": [],
   "source": [
    "dictCompoIndex = blp.compo_per_date_old(strSecurity=tickers, strFields=strFields,\n",
    "                                        strOverrideField=\"END_DATE_OVERRIDE\", strOverrideValue=startDate,\n",
    "                                        strEndDate=endDate)\n",
    "idx_df = pd.DataFrame(dictCompoIndex).T\n",
    "unique_idx = sorted(list(set(idx_df.sum()[0])))\n",
    "list_index = list(map(lambda x: x + \" Equity\", unique_idx))\n",
    "\n",
    "dictTickersTime = {k: list(map(lambda x: x + \" Equity\", np.array(v).flatten().tolist())) for k, v in\n",
    "               dictCompoIndex.items()}\n",
    "dfHistory = blp.bdh(list_index, ['PX_LAST'], startDate, endDate)  # CUR_MKT_CAP # TOTAL_EQUITY # PX_LAST\n",
    "if type_strat == TypeStrategy.btm.value:\n",
    "    dfHistory_btm = blp.bdh(list_index, ['CUR_MKT_CAP'], startDate, endDate)\n",
    "else:\n",
    "    dfHistory_btm = None"
   ]
  },
  {
   "cell_type": "code",
   "execution_count": null,
   "metadata": {},
   "outputs": [],
   "source": [
    "configuration = Config(universe=list_index,\n",
    "                       start_ts=startDate,\n",
    "                       end_ts=endDate,\n",
    "                       strategy_code=type_strat,\n",
    "                       name_index=tickers,\n",
    "                       frequency=Frequency.DAILY)\n",
    "\n",
    "backtest = Backtester(config=configuration, data=dfHistory,\n",
    "                      compo=dictTickersTime,\n",
    "                      intReshuffle=10,\n",
    "                      lag1=30, lag2=200, boolGeneric=False, strat=TypeOptiWeights.MIN_VARIANCE,\n",
    "                      other_data=dfHistory_btm)"
   ]
  },
  {
   "cell_type": "code",
   "execution_count": null,
   "metadata": {},
   "outputs": [],
   "source": [
    "back = backtest.compute_levels()\n",
    "backtest_res = pd.DataFrame(back)\n",
    "plt.figure(1)\n",
    "plt.plot(backtest_res['ts'], backtest_res['close'])\n",
    "plt.xlabel('date')\n",
    "plt.ylabel('ptf level')\n",
    "plt.title('ptf evolution - momentum')\n",
    "plt.legend()"
   ]
  },
  {
   "cell_type": "code",
   "execution_count": null,
   "metadata": {},
   "outputs": [],
   "source": []
  },
  {
   "cell_type": "code",
   "execution_count": null,
   "metadata": {},
   "outputs": [],
   "source": []
  }
 ],
 "metadata": {
  "kernelspec": {
   "display_name": "Python 3",
   "language": "python",
   "name": "python3"
  },
  "language_info": {
   "codemirror_mode": {
    "name": "ipython",
    "version": 3
   },
   "file_extension": ".py",
   "mimetype": "text/x-python",
   "name": "python",
   "nbconvert_exporter": "python",
   "pygments_lexer": "ipython3",
   "version": "3.8.3"
  }
 },
 "nbformat": 4,
 "nbformat_minor": 4
}
