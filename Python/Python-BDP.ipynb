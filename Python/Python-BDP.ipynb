{
 "cells": [
  {
   "cell_type": "markdown",
   "metadata": {},
   "source": [
    "# Preambule\n",
    "#### Goal\n",
    "The goal of this session is to get familiar with the Bloomberg Python API.<br> \n",
    "This will be done by building a class containing a function which mimicks the behavior of the BDP Excel function.\n",
    "\n",
    "#### What the function will do\n",
    "Our BDP-like function should be able to : <br>\n",
    "1 - Retrieve reference data <br>\n",
    "2 - For as many tickers as possible <br>\n",
    "3 - For as many fields as possible <br>\n",
    "4 - And allow for the possibility to add overrides <br>\n",
    "\n",
    "#### References \n",
    "https://data.bloomberglp.com/professional/sites/10/2017/03/BLPAPI-Core-Developer-Guide.pdf"
   ]
  },
  {
   "cell_type": "markdown",
   "metadata": {},
   "source": [
    "# I. Dependencies\n",
    "These are the libraries we will be using in this notebook. blpapi is the library used for Bloomberg data."
   ]
  },
  {
   "cell_type": "code",
   "execution_count": 1,
   "metadata": {},
   "outputs": [],
   "source": [
    "import blpapi\n",
    "import pandas as pd\n",
    "import datetime as dt"
   ]
  },
  {
   "cell_type": "markdown",
   "metadata": {},
   "source": [
    "# II. Set up the Bloomberg names\n",
    "\n",
    "We here create variables using the Name class within blpapi. <br> \n",
    "This will allow to write cleaner and more concise code when refering to strings with the api.<br>\n",
    "Below are only the names required for our present work. Many more exist and you can refer to the different examples within the SDK for ones of interest to your task."
   ]
  },
  {
   "cell_type": "code",
   "execution_count": 2,
   "metadata": {},
   "outputs": [],
   "source": [
    "DATE = blpapi.Name(\"date\")\n",
    "ERROR_INFO = blpapi.Name(\"errorInfo\")\n",
    "EVENT_TIME = blpapi.Name(\"EVENT_TIME\")\n",
    "FIELD_DATA = blpapi.Name(\"fieldData\")\n",
    "FIELD_EXCEPTIONS = blpapi.Name(\"fieldExceptions\")\n",
    "FIELD_ID = blpapi.Name(\"fieldId\")\n",
    "SECURITY = blpapi.Name(\"security\")\n",
    "SECURITY_DATA = blpapi.Name(\"securityData\")"
   ]
  },
  {
   "cell_type": "markdown",
   "metadata": {},
   "source": [
    "# III. The BLP class\n",
    "We now start to build our function within a dedicated class.<br>\n",
    "\n",
    "A brief reminder on the class object in Python:<br>\n",
    "- Classes must have a function called _\\_init_\\_() which is automatically executed at class initiation\n",
    "- Classes can have one or several methods\n",
    "- Class object need to be instaciated before using its methods\n",
    "\n",
    "#### A. The init function\n",
    "\n",
    "This function aims at starting the session and setting up the desired service \n",
    "\n",
    "#### B. The close session method:\n",
    "Simply kills the session so no ghost connection remains. \n",
    "\n",
    "#### C. The BDP method:\n",
    "3 steps: <br>\n",
    "1- Create request<br>\n",
    "2- Send request <br>\n",
    "3- Extract data<br>\n",
    "\n",
    "\n"
   ]
  },
  {
   "cell_type": "code",
   "execution_count": 68,
   "metadata": {},
   "outputs": [],
   "source": [
    "class BLP():\n",
    "    #-----------------------------------------------------------------------------------------------------\n",
    "    #-----------------------------------------------------------------------------------------------------    \n",
    "    #-----------------------------------------------------------------------------------------------------\n",
    "    \n",
    "    def __init__(self):\n",
    "        \"\"\"\n",
    "            Improve this\n",
    "            BLP object initialization\n",
    "            Synchronus event handling\n",
    "            \n",
    "        \"\"\"\n",
    "        # Create Session object\n",
    "        self.session = blpapi.Session()\n",
    "        \n",
    "        \n",
    "        # Exit if can't start the Session\n",
    "        if not self.session.start():\n",
    "            print(\"Failed to start session.\")\n",
    "            return\n",
    "        \n",
    "        # Open & Get RefData Service or exit if impossible\n",
    "        if not self.session.openService(\"//blp/refdata\"):\n",
    "            print(\"Failed to open //blp/refdata\")\n",
    "            return\n",
    "        \n",
    "        self.session.openService('//BLP/refdata')\n",
    "        self.refDataSvc = self.session.getService('//BLP/refdata')\n",
    "\n",
    "        print('Session open')\n",
    "    \n",
    "    #-----------------------------------------------------------------------------------------------------\n",
    "    #-----------------------------------------------------------------------------------------------------\n",
    "    #-----------------------------------------------------------------------------------------------------\n",
    "    \n",
    "    def bdp(self, strSecurity, strFields, strOverrideField='', strOverrideValue=''):\n",
    "        \n",
    "        \"\"\"\n",
    "            Summary:\n",
    "                Reference Data Request ; Real-time if entitled, else delayed values \n",
    "                Only supports 1 override\n",
    "                \n",
    "                \n",
    "            Input:\n",
    "                strSecurity\n",
    "                strFields\n",
    "                strOverrideField\n",
    "                strOverrideValue         \n",
    "            \n",
    "            Output:\n",
    "               Dict \n",
    "        \"\"\"\n",
    "        \n",
    "        #-----------------------------------------------------------------------\n",
    "        # Create request\n",
    "        #-----------------------------------------------------------------------\n",
    "        \n",
    "        # Create request\n",
    "        request = self.refDataSvc.createRequest('ReferenceDataRequest')\n",
    "        \n",
    "        # Put field and securities in list is single field passed\n",
    "        if type(strFields) == str:\n",
    "            strFields = [strFields]\n",
    "        \n",
    "        if type(strSecurity) == str:\n",
    "            strSecurity = [strSecurity]\n",
    "            \n",
    "        # Append list of fields\n",
    "        for strD in strFields:\n",
    "            request.append('fields', strD)\n",
    "\n",
    "        # Append list of securities\n",
    "        for strS in strSecurity:\n",
    "            request.append('securities', strS)\n",
    "\n",
    "        # Add override \n",
    "        if strOverrideField != '':\n",
    "            o = request.getElement('overrides').appendElement()\n",
    "            o.setElement('fieldId', strOverrideField)\n",
    "            o.setElement('value', strOverrideValue)\n",
    "\n",
    "        #-----------------------------------------------------------------------\n",
    "        # Send request\n",
    "        #-----------------------------------------------------------------------\n",
    "\n",
    "        requestID = self.session.sendRequest(request)\n",
    "        print(\"Sending request\")\n",
    "\n",
    "        #-----------------------------------------------------------------------\n",
    "        # Receive request                \n",
    "        #-----------------------------------------------------------------------\n",
    "                \n",
    "        list_msg = []\n",
    "        \n",
    "        while True:\n",
    "            event = self.session.nextEvent()\n",
    "            \n",
    "            # Ignores anything that's not partial or final\n",
    "            if (event.eventType() !=blpapi.event.Event.RESPONSE) & (event.eventType() !=blpapi.event.Event.PARTIAL_RESPONSE):\n",
    "                continue\n",
    "            \n",
    "            # Extract the response message\n",
    "            msg = blpapi.event.MessageIterator(event).__next__()\n",
    "            list_msg.append(msg.getElement(SECURITY_DATA))\n",
    "\n",
    "            # Break loop if response is final\n",
    "            if event.eventType() == blpapi.event.Event.RESPONSE:\n",
    "                break  \n",
    "                \n",
    "        \n",
    "        #-----------------------------------------------------------------------\n",
    "        # Extract the data \n",
    "        #-----------------------------------------------------------------------\n",
    "        #creer le disct le plus global\n",
    "        #create as many empty  dictionaries as field\n",
    "        for field in strFields:\n",
    "            globals()['dict_'+field]={}\n",
    "        \n",
    "        for msg in list_msg:\n",
    "            \n",
    "            for i in range(0,msg.numValues()):\n",
    "                ticker_name = msg.getValue(i).getElement(SECURITY).getValue()\n",
    "                #recup la security\n",
    "                field_data= msg.getValue(i).getElement(FIELD_DATA)\n",
    "                \n",
    "                for field in strFields:\n",
    "                \n",
    "                    globals()['dict_'+field][ticker_name]={}\n",
    "                \n",
    "                for j in range(0,field_data.numElements()):\n",
    "                    field_name=str(field_data.getElement(j).name())\n",
    "                    field_value=field_data.getElement(j).getValue()\n",
    "                    \n",
    "                    globals()['dict_'+field_name][ticker_name]=field_value\n",
    "        \n",
    "        dict_Security_Fields={}\n",
    "        for field in strFields:\n",
    "                \n",
    "                dict_Security_Fields[field]=pd.DataFrame.from_dict(globals()['dict_'+field], orient = \"index\", columns = [field])\n",
    "        \n",
    "        return dict_Security_Fields if len(strFields)>1 else dict_Security_Fields[field]\n",
    "\n",
    "    \n",
    "    #-----------------------------------------------------------------------------------------------------\n",
    "    #-----------------------------------------------------------------------------------------------------\n",
    "    #-----------------------------------------------------------------------------------------------------\n",
    "\n",
    "    def closeSession(self):\n",
    "        print(\"Session closed\")\n",
    "        self.session.stop()"
   ]
  },
  {
   "cell_type": "markdown",
   "metadata": {},
   "source": [
    "# IV. Tests"
   ]
  },
  {
   "cell_type": "code",
   "execution_count": 85,
   "metadata": {},
   "outputs": [
    {
     "name": "stdout",
     "output_type": "stream",
     "text": [
      "Session open\n",
      "Sending request\n",
      "Session closed\n"
     ]
    }
   ],
   "source": [
    "blp = BLP()\n",
    "strFields = [\"AMT_OUTSTANDING\", \"PX_LAST\"]\n",
    "tickers = [\"USF1067PAD80 CORP\", \"USF8500RAC63 CORP\"]\n",
    "date = '20221111'\n",
    "\n",
    "prices = blp.bdp(strSecurity=tickers, strFields = strFields, strOverrideField = \"AMOUNT_OUTSTANDING_AS_OF_DT\", strOverrideValue = date )\n",
    "blp.closeSession()"
   ]
  },
  {
   "cell_type": "code",
   "execution_count": 86,
   "metadata": {},
   "outputs": [
    {
     "data": {
      "text/plain": [
       "dict_keys(['AMT_OUTSTANDING', 'PX_LAST'])"
      ]
     },
     "execution_count": 86,
     "metadata": {},
     "output_type": "execute_result"
    }
   ],
   "source": [
    "prices.keys()"
   ]
  },
  {
   "cell_type": "code",
   "execution_count": 88,
   "metadata": {},
   "outputs": [
    {
     "data": {
      "text/html": [
       "<div>\n",
       "<style scoped>\n",
       "    .dataframe tbody tr th:only-of-type {\n",
       "        vertical-align: middle;\n",
       "    }\n",
       "\n",
       "    .dataframe tbody tr th {\n",
       "        vertical-align: top;\n",
       "    }\n",
       "\n",
       "    .dataframe thead th {\n",
       "        text-align: right;\n",
       "    }\n",
       "</style>\n",
       "<table border=\"1\" class=\"dataframe\">\n",
       "  <thead>\n",
       "    <tr style=\"text-align: right;\">\n",
       "      <th></th>\n",
       "      <th>AMT_OUTSTANDING</th>\n",
       "    </tr>\n",
       "  </thead>\n",
       "  <tbody>\n",
       "    <tr>\n",
       "      <th>USF1067PAD80 CORP</th>\n",
       "      <td>1000000000.0</td>\n",
       "    </tr>\n",
       "    <tr>\n",
       "      <th>USF8500RAC63 CORP</th>\n",
       "      <td>{}</td>\n",
       "    </tr>\n",
       "  </tbody>\n",
       "</table>\n",
       "</div>"
      ],
      "text/plain": [
       "                  AMT_OUTSTANDING\n",
       "USF1067PAD80 CORP    1000000000.0\n",
       "USF8500RAC63 CORP              {}"
      ]
     },
     "execution_count": 88,
     "metadata": {},
     "output_type": "execute_result"
    }
   ],
   "source": [
    "prices[\"AMT_OUTSTANDING\"]"
   ]
  },
  {
   "cell_type": "code",
   "execution_count": 77,
   "metadata": {},
   "outputs": [
    {
     "data": {
      "text/plain": [
       "{'NAME':                                NAME\n",
       " USF1067PAD80 CORP       BNP PARIBAS\n",
       " USF8500RAC63 CORP  SOCIETE GENERALE,\n",
       " 'PX_LAST':                    PX_LAST\n",
       " USF1067PAD80 CORP  105.039\n",
       " USF8500RAC63 CORP  102.870}"
      ]
     },
     "execution_count": 77,
     "metadata": {},
     "output_type": "execute_result"
    }
   ],
   "source": [
    "prices"
   ]
  },
  {
   "cell_type": "code",
   "execution_count": 89,
   "metadata": {},
   "outputs": [
    {
     "data": {
      "text/plain": [
       "<bound method NDFrame._add_numeric_operations.<locals>.sum of                    PX_LAST\n",
       "USF1067PAD80 CORP  105.039\n",
       "USF8500RAC63 CORP  102.870>"
      ]
     },
     "execution_count": 89,
     "metadata": {},
     "output_type": "execute_result"
    }
   ],
   "source": [
    "prices[\"PX_LAST\"].sum"
   ]
  },
  {
   "cell_type": "code",
   "execution_count": null,
   "metadata": {},
   "outputs": [],
   "source": []
  }
 ],
 "metadata": {
  "kernelspec": {
   "display_name": "Python 3 (ipykernel)",
   "language": "python",
   "name": "python3"
  },
  "language_info": {
   "codemirror_mode": {
    "name": "ipython",
    "version": 3
   },
   "file_extension": ".py",
   "mimetype": "text/x-python",
   "name": "python",
   "nbconvert_exporter": "python",
   "pygments_lexer": "ipython3",
   "version": "3.8.15"
  }
 },
 "nbformat": 4,
 "nbformat_minor": 2
}
